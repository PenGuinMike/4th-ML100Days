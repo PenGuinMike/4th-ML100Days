{
 "cells": [
  {
   "cell_type": "markdown",
   "metadata": {},
   "source": [
    "## [作業目標]\n",
    "了解機器學習適合應用的領域與範疇。"
   ]
  },
  {
   "cell_type": "markdown",
   "metadata": {},
   "source": [
    "## [作業重點]\n",
    "透過瞭解機器學習的運作方式，找出非常適用機器學習應用的領域及其原因"
   ]
  },
  {
   "cell_type": "markdown",
   "metadata": {},
   "source": [
    "## 作業\n",
    "請找出一個你認為機器學習可以發光發熱的領域並闡述原因? "
   ]
  },
  {
   "cell_type": "code",
   "execution_count": null,
   "metadata": {},
   "outputs": [],
   "source": [
    "人類是種好吃懶做的生物,只要能坐著就絕對不站著,能讓機器處理的事情就絕對不花人力去做,因此機器學習發展起來後,可以很大幅度的縮減勞工的需求\n",
    "\n",
    ",也可以讓人類的生活變得更方便,這樣人類可以用更多的時間去做其他的事情,對於人類社會發展來說絕對是一件好事,目前還在發展階段中就已經看到許多的\n",
    "\n",
    "應用做出以前難以想像的事情,像是阿法狗打贏人類棋王亦或是用來看X光判別是不是某種疾病,還有現在正流行的武漢肺炎,這裡面都看到了機器學習的影子,\n",
    "\n",
    "藉由上面這些案例,可以看到未來機器學習會與人類的生活完全融合。"
   ]
  }
 ],
 "metadata": {
  "kernelspec": {
   "display_name": "Python 3",
   "language": "python",
   "name": "python3"
  },
  "language_info": {
   "codemirror_mode": {
    "name": "ipython",
    "version": 3
   },
   "file_extension": ".py",
   "mimetype": "text/x-python",
   "name": "python",
   "nbconvert_exporter": "python",
   "pygments_lexer": "ipython3",
   "version": "3.7.4"
  }
 },
 "nbformat": 4,
 "nbformat_minor": 2
}
